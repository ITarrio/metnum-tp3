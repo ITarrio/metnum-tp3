{
 "cells": [
  {
   "cell_type": "code",
   "execution_count": 1,
   "metadata": {},
   "outputs": [],
   "source": [
    "import pandas as pd\n",
    "import seaborn as sns\n",
    "import matplotlib.pyplot as plt\n",
    "import matplotlib.ticker as ticker\n",
    "import random\n",
    "import numpy as np\n",
    "import json\n",
    "import datetime\n",
    "import scipy\n",
    "from scipy import linspace, polyval, polyfit, sqrt, stats, randn, optimize\n",
    "from pylab import plot, title, show , legend\n",
    "\n",
    "import plotly\n",
    "from plotly.graph_objs import Scatter, Layout"
   ]
  },
  {
   "cell_type": "code",
   "execution_count": 2,
   "metadata": {},
   "outputs": [],
   "source": [
    "def GroupColFunc(row):\n",
    "    week = datetime.date(row['Year'], row['Month'], row['DayofMonth']).isocalendar()[1]\n",
    "    if (row['Month'] == 1 and week > 50):\n",
    "        return 1.0\n",
    "    else:\n",
    "        if (row['Month'] == 12 and week == 1):\n",
    "            return 53.0\n",
    "        else:\n",
    "            return week"
   ]
  },
  {
   "cell_type": "code",
   "execution_count": 3,
   "metadata": {},
   "outputs": [],
   "source": [
    "def GenerateDataWithWeeks(years):\n",
    "    for year in years:\n",
    "        df = pd.read_csv(year+'.csv')\n",
    "        woyserie = df.apply(lambda row: GroupColFunc(row), axis=1)\n",
    "        df = df.assign(WeekOfYear= woyserie)\n",
    "        df.to_csv(year+'wy.csv')"
   ]
  },
  {
   "cell_type": "code",
   "execution_count": 4,
   "metadata": {},
   "outputs": [],
   "source": [
    "def plotCancellationCodesBy(df, index):  \n",
    "    # (A = carrier, B = weather, C = NAS, D = security)\n",
    "    var = df[df.Cancelled > 0].groupby([index,'CancellationCode'])[index].count() / df.groupby([index])[index].count()\n",
    "    var.unstack().plot(kind='bar',stacked=True, color=['red','blue','green','pink'], grid=False)\n",
    "    plt.show()"
   ]
  },
  {
   "cell_type": "code",
   "execution_count": 26,
   "metadata": {
    "scrolled": true
   },
   "outputs": [
    {
     "name": "stderr",
     "output_type": "stream",
     "text": [
      "/Library/Frameworks/Python.framework/Versions/3.6/lib/python3.6/site-packages/IPython/core/interactiveshell.py:2728: DtypeWarning:\n",
      "\n",
      "Columns (22) have mixed types. Specify dtype option on import or set low_memory=False.\n",
      "\n"
     ]
    }
   ],
   "source": [
    "years = ['2003','2004','2005','2006','2007','2008']\n",
    "\n",
    "\n",
    "# totalM = pd.Series()\n",
    "# cancelledM = pd.Series()\n",
    "# cancelledAM = pd.Series()\n",
    "# cancelledBM = pd.Series()\n",
    "# cancelledCM = pd.Series()\n",
    "# cancelledDM = pd.Series()\n",
    "# delayM = pd.Series()\n",
    "# delayCM = pd.Series()\n",
    "# delaywM = pd.Series()\n",
    "# delayNM = pd.Series()\n",
    "# delaySM = pd.Series()\n",
    "# delayLM = pd.Series()\n",
    "aer = pd.Series()\n",
    "\n",
    "for year in years:\n",
    "    df = pd.read_csv(year+'.csv')\n",
    "    #_Vuelos Totales Por Mes \n",
    "#     ser = df.groupby(['Year','Month'])['Month'].count()\n",
    "#     totalM = totalM.append(ser)\n",
    "#     #_Cancelados Por Mes \n",
    "#     ser = df[df.Cancelled > 0].groupby(['Year','Month'])['Month'].count()\n",
    "#     cancelledM = cancelledM.append(ser)\n",
    "#     #_Cancelados Aerolinea Por Mes \n",
    "#     ser = df[df.CancellationCode == 'A'].groupby(['Year','Month'])['Month'].count()\n",
    "#     cancelledAM = cancelledAM.append(ser)\n",
    "#     #_Cancelados Mal Tiempo Por Mes \n",
    "#     ser = df[df.CancellationCode == 'B'].groupby(['Year','Month'])['Month'].count()\n",
    "#     cancelledBM = cancelledBM.append(ser)    \n",
    "#         #_Cancelados Mal Tiempo Por Mes \n",
    "#     ser = df[df.CancellationCode == 'C'].groupby(['Year','Month'])['Month'].count()\n",
    "#     cancelledCM = cancelledCM.append(ser)    \n",
    "#         #_Cancelados Mal Tiempo Por Mes \n",
    "#     ser = df[df.CancellationCode == 'D'].groupby(['Year','Month'])['Month'].count()\n",
    "#     cancelledDM = cancelledDM.append(ser)    \n",
    "#     # Delay Por Mes\n",
    "#     ser = df[(df.CarrierDelay > 0) | (df.WeatherDelay > 0) | (df.NASDelay > 0) | (df.SecurityDelay > 0) | (df.LateAircraftDelay > 0)].groupby(['Year','Month'])['Month'].count()\n",
    "#     delayM = delayM.append(ser)\n",
    "#     # Carrier Delay Por Mes\n",
    "#     ser = df[df.CarrierDelay > 0].groupby(['Year','Month'])['Month'].count()\n",
    "#     delayCM = delayCM.append(ser)\n",
    "#     # Mal Tiempo Delay Por Mes\n",
    "#     ser = df[df.WeatherDelay > 0].groupby(['Year','Month'])['Month'].count()\n",
    "#     delaywM = delaywM.append(ser)\n",
    "#     # Nas Delay Por Mes\n",
    "#     ser = df[df.NASDelay > 0].groupby(['Year','Month'])['Month'].count()\n",
    "#     delayNM = delayNM.append(ser)\n",
    "#     # Security Delay Por Mes \n",
    "#     ser = df[df.SecurityDelay > 0].groupby(['Year','Month'])['Month'].count()\n",
    "#     delaySM = delaySM.append(ser)\n",
    "#     # LateAircraft Delay Por Mes\n",
    "#     ser = df[df.LateAircraftDelay > 0].groupby(['Year','Month'])['Month'].count()\n",
    "#     delayLM = delayLM.append(ser)\n",
    "    # Aeropuerto JFK\n",
    "    ser = df[(df.Origin == 'JFK') || (df.Dest == 'JFK')].groupby(['Year','Month'])['Month'].count()\n",
    "    aer = aer.append(ser)\n"
   ]
  },
  {
   "cell_type": "code",
   "execution_count": null,
   "metadata": {},
   "outputs": [],
   "source": [
    "aer"
   ]
  },
  {
   "cell_type": "code",
   "execution_count": 23,
   "metadata": {},
   "outputs": [],
   "source": [
    "def lineal(x, a, b):\n",
    "    return a + b*x\n",
    "def nachooriginal(x, a, b, c, d, e, f, g):\n",
    "    return a*x + b * abs(np.cos(x)) + c * abs(np.sin(x)) + f * np.cos(x) + g * np.sin(x) + d * np.log(x+1) + e\n",
    "def nacho(x, a, b, c, d, e, f, g, h, i, j):\n",
    "    return h*(x**4) + i*(x**3) + j*(x**2) + a*x + b * abs(np.cos(x)) + c * abs(np.sin(x)) + f * np.cos(x) + g * np.sin(x) + d * np.log(x+1) + e\n",
    "def cua(x, a, b, c, d, e, f, g, h, i, j, k, l):\n",
    "    return a*x + b * abs(np.cos(x)) + c * abs(np.sin(x)) + f * np.cos(x) + g * np.sin(x) + d * np.log(x+1) + e + k * np.sin(x) ** 2 + l * np.cos(x) ** 2 \n",
    "def biz(x, a, b, c, d, e, f, g, h, i, j):\n",
    "    return a*x + b * abs(np.cos(x)) + c * abs(np.sin(x)) + f * np.cos(x) + g * np.sin(x) + d * np.cos(x) + i * np.sin(x)  + e\n",
    "def la(x, a, b, c, d, e, f, g, h):\n",
    "    return a + b * x + c * np.cos(x*d+e) + f * np.sin(x*g+h) + c * np.cos(x*d+e) + f * np.sin(x*g+h)\n"
   ]
  },
  {
   "cell_type": "markdown",
   "metadata": {},
   "source": [
    "# Vuelos entrenado 2003-2006"
   ]
  },
  {
   "cell_type": "code",
   "execution_count": 28,
   "metadata": {},
   "outputs": [
    {
     "name": "stderr",
     "output_type": "stream",
     "text": [
      "/Library/Frameworks/Python.framework/Versions/3.6/lib/python3.6/site-packages/scipy/optimize/minpack.py:785: OptimizeWarning:\n",
      "\n",
      "Covariance of the parameters could not be estimated\n",
      "\n"
     ]
    },
    {
     "data": {
      "image/png": "[encoded data removed]",
      "text/plain": [
       "<matplotlib.figure.Figure at 0x17b535ef0>"
      ]
     },
     "metadata": {},
     "output_type": "display_data"
    },
    {
     "data": {
      "text/plain": [
       "734060.75046550622"
      ]
     },
     "execution_count": 28,
     "metadata": {},
     "output_type": "execute_result"
    }
   ],
   "source": [
    "train_y = (aer).values[0:48]\n",
    "train_x = np.arange(0, train_y.size, 1)\n",
    "fit_y = aer.values\n",
    "fit_x = np.arange(0, fit_y.size, 1) \n",
    "\n",
    "fun = cua\n",
    "popt, pcov = optimize.curve_fit(fun, train_x, train_y)\n",
    "y_pred = fun(fit_x, *popt)\n",
    "\n",
    "plt.figure(figsize=(12,7))\n",
    "# Datos\n",
    "data_plt, = plt.plot(fit_x, fit_y, 'b-', label='Datos reales')\n",
    "\n",
    "# Entrenamiento\n",
    "fit_plt, = plt.plot(fit_x[0:48], y_pred[0:48], 'r-', label='Funcion fitteada')\n",
    "\n",
    "# Prediccion\n",
    "pred_plt, = plt.plot(fit_x[48:72], y_pred[48:72], 'g-', label='Predicción')\n",
    "\n",
    "# Leyendas\n",
    "legend = plt.legend(handles=[data_plt, fit_plt, pred_plt], loc=0)\n",
    "ax = plt.gca().add_artist(legend)\n",
    "\n",
    "# Labels eje X\n",
    "def formatter_fun(x, p):\n",
    "    month = 1 + x\n",
    "    year = int(2003 + month / 12)\n",
    "    month = int(month % 12 + 1)\n",
    "    dat = datetime.date(year,month,1)\n",
    "    return dat.strftime(\"%m/%y\")\n",
    "\n",
    "plt.gca().get_xaxis().set_major_formatter(ticker.FuncFormatter(formatter_fun))\n",
    "\n",
    "plt.show()\n",
    "np.mean((fit_y - y_pred)**2) ##Error"
   ]
  },
  {
   "cell_type": "markdown",
   "metadata": {},
   "source": [
    "# Vuelos entrenado multiples"
   ]
  },
  {
   "cell_type": "code",
   "execution_count": 30,
   "metadata": {
    "scrolled": false
   },
   "outputs": [
    {
     "name": "stderr",
     "output_type": "stream",
     "text": [
      "/Library/Frameworks/Python.framework/Versions/3.6/lib/python3.6/site-packages/scipy/optimize/minpack.py:785: OptimizeWarning:\n",
      "\n",
      "Covariance of the parameters could not be estimated\n",
      "\n"
     ]
    },
    {
     "ename": "ValueError",
     "evalue": "operands could not be broadcast together with shapes (24,) (36,) ",
     "output_type": "error",
     "traceback": [
      "\u001b[0;31m---------------------------------------------------------------------------\u001b[0m",
      "\u001b[0;31mValueError\u001b[0m                                Traceback (most recent call last)",
      "\u001b[0;32m<ipython-input-30-45d011279692>\u001b[0m in \u001b[0;36m<module>\u001b[0;34m()\u001b[0m\n\u001b[1;32m     14\u001b[0m \u001b[0my_pred\u001b[0m \u001b[0;34m=\u001b[0m \u001b[0mfun\u001b[0m\u001b[0;34m(\u001b[0m\u001b[0mfit_x\u001b[0m\u001b[0;34m,\u001b[0m \u001b[0;34m*\u001b[0m\u001b[0mpopt\u001b[0m\u001b[0;34m)\u001b[0m\u001b[0;34m\u001b[0m\u001b[0m\n\u001b[1;32m     15\u001b[0m \u001b[0;34m\u001b[0m\u001b[0m\n\u001b[0;32m---> 16\u001b[0;31m \u001b[0mpopt2\u001b[0m\u001b[0;34m,\u001b[0m \u001b[0mpcov2\u001b[0m \u001b[0;34m=\u001b[0m \u001b[0moptimize\u001b[0m\u001b[0;34m.\u001b[0m\u001b[0mcurve_fit\u001b[0m\u001b[0;34m(\u001b[0m\u001b[0mfun\u001b[0m\u001b[0;34m,\u001b[0m \u001b[0mtrain_x2\u001b[0m\u001b[0;34m,\u001b[0m \u001b[0mtrain_y2\u001b[0m\u001b[0;34m)\u001b[0m\u001b[0;34m\u001b[0m\u001b[0m\n\u001b[0m\u001b[1;32m     17\u001b[0m \u001b[0my_pred2\u001b[0m \u001b[0;34m=\u001b[0m \u001b[0mfun\u001b[0m\u001b[0;34m(\u001b[0m\u001b[0mfit_x\u001b[0m\u001b[0;34m,\u001b[0m \u001b[0;34m*\u001b[0m\u001b[0mpopt2\u001b[0m\u001b[0;34m)\u001b[0m\u001b[0;34m\u001b[0m\u001b[0m\n\u001b[1;32m     18\u001b[0m \u001b[0;34m\u001b[0m\u001b[0m\n",
      "\u001b[0;32m/Library/Frameworks/Python.framework/Versions/3.6/lib/python3.6/site-packages/scipy/optimize/minpack.py\u001b[0m in \u001b[0;36mcurve_fit\u001b[0;34m(f, xdata, ydata, p0, sigma, absolute_sigma, check_finite, bounds, method, jac, **kwargs)\u001b[0m\n\u001b[1;32m    740\u001b[0m         \u001b[0;31m# Remove full_output from kwargs, otherwise we're passing it in twice.\u001b[0m\u001b[0;34m\u001b[0m\u001b[0;34m\u001b[0m\u001b[0m\n\u001b[1;32m    741\u001b[0m         \u001b[0mreturn_full\u001b[0m \u001b[0;34m=\u001b[0m \u001b[0mkwargs\u001b[0m\u001b[0;34m.\u001b[0m\u001b[0mpop\u001b[0m\u001b[0;34m(\u001b[0m\u001b[0;34m'full_output'\u001b[0m\u001b[0;34m,\u001b[0m \u001b[0;32mFalse\u001b[0m\u001b[0;34m)\u001b[0m\u001b[0;34m\u001b[0m\u001b[0m\n\u001b[0;32m--> 742\u001b[0;31m         \u001b[0mres\u001b[0m \u001b[0;34m=\u001b[0m \u001b[0mleastsq\u001b[0m\u001b[0;34m(\u001b[0m\u001b[0mfunc\u001b[0m\u001b[0;34m,\u001b[0m \u001b[0mp0\u001b[0m\u001b[0;34m,\u001b[0m \u001b[0mDfun\u001b[0m\u001b[0;34m=\u001b[0m\u001b[0mjac\u001b[0m\u001b[0;34m,\u001b[0m \u001b[0mfull_output\u001b[0m\u001b[0;34m=\u001b[0m\u001b[0;36m1\u001b[0m\u001b[0;34m,\u001b[0m \u001b[0;34m**\u001b[0m\u001b[0mkwargs\u001b[0m\u001b[0;34m)\u001b[0m\u001b[0;34m\u001b[0m\u001b[0m\n\u001b[0m\u001b[1;32m    743\u001b[0m         \u001b[0mpopt\u001b[0m\u001b[0;34m,\u001b[0m \u001b[0mpcov\u001b[0m\u001b[0;34m,\u001b[0m \u001b[0minfodict\u001b[0m\u001b[0;34m,\u001b[0m \u001b[0merrmsg\u001b[0m\u001b[0;34m,\u001b[0m \u001b[0mier\u001b[0m \u001b[0;34m=\u001b[0m \u001b[0mres\u001b[0m\u001b[0;34m\u001b[0m\u001b[0m\n\u001b[1;32m    744\u001b[0m         \u001b[0mcost\u001b[0m \u001b[0;34m=\u001b[0m \u001b[0mnp\u001b[0m\u001b[0;34m.\u001b[0m\u001b[0msum\u001b[0m\u001b[0;34m(\u001b[0m\u001b[0minfodict\u001b[0m\u001b[0;34m[\u001b[0m\u001b[0;34m'fvec'\u001b[0m\u001b[0;34m]\u001b[0m \u001b[0;34m**\u001b[0m \u001b[0;36m2\u001b[0m\u001b[0;34m)\u001b[0m\u001b[0;34m\u001b[0m\u001b[0m\n",
      "\u001b[0;32m/Library/Frameworks/Python.framework/Versions/3.6/lib/python3.6/site-packages/scipy/optimize/minpack.py\u001b[0m in \u001b[0;36mleastsq\u001b[0;34m(func, x0, args, Dfun, full_output, col_deriv, ftol, xtol, gtol, maxfev, epsfcn, factor, diag)\u001b[0m\n\u001b[1;32m    375\u001b[0m     \u001b[0;32mif\u001b[0m \u001b[0;32mnot\u001b[0m \u001b[0misinstance\u001b[0m\u001b[0;34m(\u001b[0m\u001b[0margs\u001b[0m\u001b[0;34m,\u001b[0m \u001b[0mtuple\u001b[0m\u001b[0;34m)\u001b[0m\u001b[0;34m:\u001b[0m\u001b[0;34m\u001b[0m\u001b[0m\n\u001b[1;32m    376\u001b[0m         \u001b[0margs\u001b[0m \u001b[0;34m=\u001b[0m \u001b[0;34m(\u001b[0m\u001b[0margs\u001b[0m\u001b[0;34m,\u001b[0m\u001b[0;34m)\u001b[0m\u001b[0;34m\u001b[0m\u001b[0m\n\u001b[0;32m--> 377\u001b[0;31m     \u001b[0mshape\u001b[0m\u001b[0;34m,\u001b[0m \u001b[0mdtype\u001b[0m \u001b[0;34m=\u001b[0m \u001b[0m_check_func\u001b[0m\u001b[0;34m(\u001b[0m\u001b[0;34m'leastsq'\u001b[0m\u001b[0;34m,\u001b[0m \u001b[0;34m'func'\u001b[0m\u001b[0;34m,\u001b[0m \u001b[0mfunc\u001b[0m\u001b[0;34m,\u001b[0m \u001b[0mx0\u001b[0m\u001b[0;34m,\u001b[0m \u001b[0margs\u001b[0m\u001b[0;34m,\u001b[0m \u001b[0mn\u001b[0m\u001b[0;34m)\u001b[0m\u001b[0;34m\u001b[0m\u001b[0m\n\u001b[0m\u001b[1;32m    378\u001b[0m     \u001b[0mm\u001b[0m \u001b[0;34m=\u001b[0m \u001b[0mshape\u001b[0m\u001b[0;34m[\u001b[0m\u001b[0;36m0\u001b[0m\u001b[0;34m]\u001b[0m\u001b[0;34m\u001b[0m\u001b[0m\n\u001b[1;32m    379\u001b[0m     \u001b[0;32mif\u001b[0m \u001b[0mn\u001b[0m \u001b[0;34m>\u001b[0m \u001b[0mm\u001b[0m\u001b[0;34m:\u001b[0m\u001b[0;34m\u001b[0m\u001b[0m\n",
      "\u001b[0;32m/Library/Frameworks/Python.framework/Versions/3.6/lib/python3.6/site-packages/scipy/optimize/minpack.py\u001b[0m in \u001b[0;36m_check_func\u001b[0;34m(checker, argname, thefunc, x0, args, numinputs, output_shape)\u001b[0m\n\u001b[1;32m     24\u001b[0m def _check_func(checker, argname, thefunc, x0, args, numinputs,\n\u001b[1;32m     25\u001b[0m                 output_shape=None):\n\u001b[0;32m---> 26\u001b[0;31m     \u001b[0mres\u001b[0m \u001b[0;34m=\u001b[0m \u001b[0matleast_1d\u001b[0m\u001b[0;34m(\u001b[0m\u001b[0mthefunc\u001b[0m\u001b[0;34m(\u001b[0m\u001b[0;34m*\u001b[0m\u001b[0;34m(\u001b[0m\u001b[0;34m(\u001b[0m\u001b[0mx0\u001b[0m\u001b[0;34m[\u001b[0m\u001b[0;34m:\u001b[0m\u001b[0mnuminputs\u001b[0m\u001b[0;34m]\u001b[0m\u001b[0;34m,\u001b[0m\u001b[0;34m)\u001b[0m \u001b[0;34m+\u001b[0m \u001b[0margs\u001b[0m\u001b[0;34m)\u001b[0m\u001b[0;34m)\u001b[0m\u001b[0;34m)\u001b[0m\u001b[0;34m\u001b[0m\u001b[0m\n\u001b[0m\u001b[1;32m     27\u001b[0m     \u001b[0;32mif\u001b[0m \u001b[0;34m(\u001b[0m\u001b[0moutput_shape\u001b[0m \u001b[0;32mis\u001b[0m \u001b[0;32mnot\u001b[0m \u001b[0;32mNone\u001b[0m\u001b[0;34m)\u001b[0m \u001b[0;32mand\u001b[0m \u001b[0;34m(\u001b[0m\u001b[0mshape\u001b[0m\u001b[0;34m(\u001b[0m\u001b[0mres\u001b[0m\u001b[0;34m)\u001b[0m \u001b[0;34m!=\u001b[0m \u001b[0moutput_shape\u001b[0m\u001b[0;34m)\u001b[0m\u001b[0;34m:\u001b[0m\u001b[0;34m\u001b[0m\u001b[0m\n\u001b[1;32m     28\u001b[0m         \u001b[0;32mif\u001b[0m \u001b[0;34m(\u001b[0m\u001b[0moutput_shape\u001b[0m\u001b[0;34m[\u001b[0m\u001b[0;36m0\u001b[0m\u001b[0;34m]\u001b[0m \u001b[0;34m!=\u001b[0m \u001b[0;36m1\u001b[0m\u001b[0;34m)\u001b[0m\u001b[0;34m:\u001b[0m\u001b[0;34m\u001b[0m\u001b[0m\n",
      "\u001b[0;32m/Library/Frameworks/Python.framework/Versions/3.6/lib/python3.6/site-packages/scipy/optimize/minpack.py\u001b[0m in \u001b[0;36mfunc_wrapped\u001b[0;34m(params)\u001b[0m\n\u001b[1;32m    452\u001b[0m     \u001b[0;32mif\u001b[0m \u001b[0mtransform\u001b[0m \u001b[0;32mis\u001b[0m \u001b[0;32mNone\u001b[0m\u001b[0;34m:\u001b[0m\u001b[0;34m\u001b[0m\u001b[0m\n\u001b[1;32m    453\u001b[0m         \u001b[0;32mdef\u001b[0m \u001b[0mfunc_wrapped\u001b[0m\u001b[0;34m(\u001b[0m\u001b[0mparams\u001b[0m\u001b[0;34m)\u001b[0m\u001b[0;34m:\u001b[0m\u001b[0;34m\u001b[0m\u001b[0m\n\u001b[0;32m--> 454\u001b[0;31m             \u001b[0;32mreturn\u001b[0m \u001b[0mfunc\u001b[0m\u001b[0;34m(\u001b[0m\u001b[0mxdata\u001b[0m\u001b[0;34m,\u001b[0m \u001b[0;34m*\u001b[0m\u001b[0mparams\u001b[0m\u001b[0;34m)\u001b[0m \u001b[0;34m-\u001b[0m \u001b[0mydata\u001b[0m\u001b[0;34m\u001b[0m\u001b[0m\n\u001b[0m\u001b[1;32m    455\u001b[0m     \u001b[0;32melif\u001b[0m \u001b[0mtransform\u001b[0m\u001b[0;34m.\u001b[0m\u001b[0mndim\u001b[0m \u001b[0;34m==\u001b[0m \u001b[0;36m1\u001b[0m\u001b[0;34m:\u001b[0m\u001b[0;34m\u001b[0m\u001b[0m\n\u001b[1;32m    456\u001b[0m         \u001b[0;32mdef\u001b[0m \u001b[0mfunc_wrapped\u001b[0m\u001b[0;34m(\u001b[0m\u001b[0mparams\u001b[0m\u001b[0;34m)\u001b[0m\u001b[0;34m:\u001b[0m\u001b[0;34m\u001b[0m\u001b[0m\n",
      "\u001b[0;31mValueError\u001b[0m: operands could not be broadcast together with shapes (24,) (36,) "
     ]
    }
   ],
   "source": [
    "train_y = (aer).values[0:24]\n",
    "train_x = np.arange(0, train_y.size, 1)\n",
    "fit_y = aer.values\n",
    "fit_x = np.arange(0, fit_y.size, 1) \n",
    "\n",
    "train_y2 = (aer).values[12:36]\n",
    "train_x2 = np.arange(0, train_y.size, 1)\n",
    "\n",
    "train_y3 = (aer).values[24:48]\n",
    "train_x3 = np.arange(0, train_y.size, 1)\n",
    "\n",
    "fun = biz\n",
    "popt, pcov = optimize.curve_fit(fun, train_x, train_y)\n",
    "y_pred = fun(fit_x, *popt)\n",
    "\n",
    "popt2, pcov2 = optimize.curve_fit(fun, train_x2, train_y2)\n",
    "y_pred2 = fun(fit_x, *popt2)\n",
    "\n",
    "popt3, pcov3 = optimize.curve_fit(fun, train_x3, train_y3)\n",
    "y_pred3 = fun(fit_x, *popt3)\n",
    "\n",
    "plt.figure(figsize=(12,7))\n",
    "# Datos\n",
    "data_plt, = plt.plot(fit_x, fit_y, 'b-', label='Datos reales')\n",
    "\n",
    "# Entrenamiento\n",
    "fit_plt, = plt.plot(fit_x[0:24], y_pred[0:24], 'r-', label='Funcion fitteada')\n",
    "fit_plt2, = plt.plot(fit_x[12:36], y_pred2[12:36], 'g-', label='Funcion fitteada2')\n",
    "fit_plt3, = plt.plot(fit_x[24:48], y_pred3[24:48], '-', label='Funcion fitteada3', color=\"orange\")\n",
    "\n",
    "# Prediccion\n",
    "pred_plt, = plt.plot(fit_x[24:36], y_pred[24:36], 'r-.', label='Predicción')\n",
    "pred_plt2, = plt.plot(fit_x[36:48], y_pred2[36:48], 'g-.', label='Predicción2')\n",
    "pred_plt3, = plt.plot(fit_x[48:60], y_pred3[48:60], '-.', label='Predicción3', color=\"orange\")\n",
    "\n",
    "# Leyendas\n",
    "legend = plt.legend(handles=[data_plt, fit_plt, fit_plt2, fit_plt3, pred_plt, pred_plt2, pred_plt3], loc=2)\n",
    "ax = plt.gca().add_artist(legend)\n",
    "\n",
    "# Labels eje X\n",
    "def formatter_fun(x, p):\n",
    "    month = 1 + x\n",
    "    year = int(2003 + month / 12)\n",
    "    month = int(month % 12 + 1)\n",
    "    dat = datetime.date(year,month,1)\n",
    "    return dat.strftime(\"%m/%y\")\n",
    "\n",
    "plt.gca().get_xaxis().set_major_formatter(ticker.FuncFormatter(formatter_fun))\n",
    "\n",
    "plt.show()\n",
    "print(np.mean((fit_y - y_pred)**2))\n",
    "print(np.mean((fit_y - y_pred2)**2))\n",
    "print(np.mean((fit_y - y_pred3)**2)) ##Error"
   ]
  },
  {
   "cell_type": "code",
   "execution_count": 39,
   "metadata": {},
   "outputs": [
    {
     "data": {
      "text/plain": [
       "Index([ (2003, 1),  (2003, 2),  (2003, 3),  (2003, 4),  (2003, 5),  (2003, 6),\n",
       "        (2003, 7),  (2003, 8),  (2003, 9), (2003, 10), (2003, 11), (2003, 12),\n",
       "        (2004, 1),  (2004, 2),  (2004, 3),  (2004, 4),  (2004, 5),  (2004, 6),\n",
       "        (2004, 7),  (2004, 8),  (2004, 9), (2004, 10), (2004, 11), (2004, 12),\n",
       "        (2005, 1),  (2005, 2),  (2005, 3),  (2005, 4),  (2005, 5),  (2005, 6),\n",
       "        (2005, 7),  (2005, 8),  (2005, 9), (2005, 10), (2005, 11), (2005, 12),\n",
       "        (2006, 1),  (2006, 2),  (2006, 3),  (2006, 4),  (2006, 5),  (2006, 6),\n",
       "        (2006, 7),  (2006, 8),  (2006, 9), (2006, 10), (2006, 11), (2006, 12)],\n",
       "      dtype='object')"
      ]
     },
     "execution_count": 39,
     "metadata": {},
     "output_type": "execute_result"
    }
   ],
   "source": [
    "totalM.index[0:48]"
   ]
  },
  {
   "cell_type": "markdown",
   "metadata": {},
   "source": [
    "# Experimento ECMs"
   ]
  },
  {
   "cell_type": "code",
   "execution_count": null,
   "metadata": {
    "collapsed": true
   },
   "outputs": [],
   "source": [
    "funciones = [lineal, tarrioOriginal, tarrio, cua, biz, la]\n",
    "ecms = []\n",
    "for fun in funciones:\n",
    "    train_y = (totalM).values[0:48]\n",
    "    train_x = np.arange(0, train_y.size, 1)\n",
    "    fit_y = totalM.values\n",
    "    fit_x = np.arange(0, fit_y.size, 1) \n",
    "\n",
    "    popt, pcov = optimize.curve_fit(fun, train_x, train_y)\n",
    "    y_pred = fun(fit_x, *popt)\n",
    "\n",
    "    ecms.append(np.mean((fit_y - y_pred)**2)) ##Error\n",
    "ecms"
   ]
  }
 ],
 "metadata": {
  "kernelspec": {
   "display_name": "Python 3",
   "language": "python",
   "name": "python3"
  },
  "language_info": {
   "codemirror_mode": {
    "name": "ipython",
    "version": 3
   },
   "file_extension": ".py",
   "mimetype": "text/x-python",
   "name": "python",
   "nbconvert_exporter": "python",
   "pygments_lexer": "ipython3",
   "version": "3.6.1"
  }
 },
 "nbformat": 4,
 "nbformat_minor": 2
}
