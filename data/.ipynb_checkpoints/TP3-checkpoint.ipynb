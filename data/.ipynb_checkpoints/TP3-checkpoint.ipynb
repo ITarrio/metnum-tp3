{
 "cells": [
  {
   "cell_type": "code",
   "execution_count": 6,
   "metadata": {},
   "outputs": [],
   "source": [
    "import pandas as pd\n",
    "import seaborn as sns\n",
    "import matplotlib.pyplot as plt\n",
    "import matplotlib.ticker as ticker\n",
    "import random\n",
    "import numpy as np\n",
    "import json\n",
    "import datetime\n",
    "import scipy\n",
    "from scipy import linspace, polyval, polyfit, sqrt, stats, randn, optimize\n",
    "from pylab import plot, title, show , legend\n",
    "\n",
    "import plotly\n",
    "from plotly.graph_objs import Scatter, Layout"
   ]
  },
  {
   "cell_type": "code",
   "execution_count": 23,
   "metadata": {
    "collapsed": true
   },
   "outputs": [],
   "source": [
    "def GroupColFunc(row):\n",
    "    week = datetime.date(row['Year'], row['Month'], row['DayofMonth']).isocalendar()[1]\n",
    "    if (row['Month'] == 1 and week > 50):\n",
    "        return 1.0\n",
    "    else:\n",
    "        if (row['Month'] == 12 and week == 1):\n",
    "            return 53.0\n",
    "        else:\n",
    "            return week"
   ]
  },
  {
   "cell_type": "code",
   "execution_count": 7,
   "metadata": {},
   "outputs": [],
   "source": [
    "def GenerateDataWithWeeks(years):\n",
    "    for year in years:\n",
    "        df = pd.read_csv(year+'.csv')\n",
    "        woyserie = df.apply(lambda row: GroupColFunc(row), axis=1)\n",
    "        df = df.assign(WeekOfYear= woyserie)\n",
    "        df.to_csv(year+'wy.csv')"
   ]
  },
  {
   "cell_type": "code",
   "execution_count": 8,
   "metadata": {},
   "outputs": [],
   "source": [
    "def plotCancellationCodesBy(df, index):  \n",
    "    # (A = carrier, B = weather, C = NAS, D = security)\n",
    "    var = df[df.Cancelled > 0].groupby([index,'CancellationCode'])[index].count() / df.groupby([index])[index].count()\n",
    "    var.unstack().plot(kind='bar',stacked=True, color=['red','blue','green','pink'], grid=False)\n",
    "    plt.show()"
   ]
  },
  {
   "cell_type": "code",
   "execution_count": 9,
   "metadata": {
    "scrolled": true
   },
   "outputs": [
    {
     "name": "stderr",
     "output_type": "stream",
     "text": [
      "/Library/Frameworks/Python.framework/Versions/3.6/lib/python3.6/site-packages/IPython/core/interactiveshell.py:2728: DtypeWarning:\n",
      "\n",
      "Columns (22) have mixed types. Specify dtype option on import or set low_memory=False.\n",
      "\n"
     ]
    }
   ],
   "source": [
    "years = ['2003','2004','2005','2006','2007','2008']\n",
    "\n",
    "\n",
    "totalM = pd.Series()\n",
    "cancelledM = pd.Series()\n",
    "cancelledAM = pd.Series()\n",
    "cancelledBM = pd.Series()\n",
    "cancelledCM = pd.Series()\n",
    "cancelledDM = pd.Series()\n",
    "delayM = pd.Series()\n",
    "delayCM = pd.Series()\n",
    "delaywM = pd.Series()\n",
    "delayNM = pd.Series()\n",
    "delaySM = pd.Series()\n",
    "delayLM = pd.Series()\n",
    "\n",
    "for year in years:\n",
    "    df = pd.read_csv(year+'.csv')\n",
    "    #_Vuelos Totales Por Mes \n",
    "    ser = df.groupby(['Year','Month'])['Month'].count()\n",
    "    totalM = totalM.append(ser)\n",
    "    #_Cancelados Por Mes \n",
    "    ser = df[df.Cancelled > 0].groupby(['Year','Month'])['Month'].count()\n",
    "    cancelledM = cancelledM.append(ser)\n",
    "    #_Cancelados Aerolinea Por Mes \n",
    "    ser = df[df.CancellationCode == 'A'].groupby(['Year','Month'])['Month'].count()\n",
    "    cancelledAM = cancelledAM.append(ser)\n",
    "    #_Cancelados Mal Tiempo Por Mes \n",
    "    ser = df[df.CancellationCode == 'B'].groupby(['Year','Month'])['Month'].count()\n",
    "    cancelledBM = cancelledBM.append(ser)    \n",
    "        #_Cancelados Mal Tiempo Por Mes \n",
    "    ser = df[df.CancellationCode == 'C'].groupby(['Year','Month'])['Month'].count()\n",
    "    cancelledCM = cancelledCM.append(ser)    \n",
    "        #_Cancelados Mal Tiempo Por Mes \n",
    "    ser = df[df.CancellationCode == 'D'].groupby(['Year','Month'])['Month'].count()\n",
    "    cancelledDM = cancelledDM.append(ser)    \n",
    "    # Delay Por Mes\n",
    "    ser = df[(df.CarrierDelay > 0) | (df.WeatherDelay > 0) | (df.NASDelay > 0) | (df.SecurityDelay > 0) | (df.LateAircraftDelay > 0)].groupby(['Year','Month'])['Month'].count()\n",
    "    delayM = delayM.append(ser)\n",
    "    # Carrier Delay Por Mes\n",
    "    ser = df[df.CarrierDelay > 0].groupby(['Year','Month'])['Month'].count()\n",
    "    delayCM = delayCM.append(ser)\n",
    "    # Mal Tiempo Delay Por Mes\n",
    "    ser = df[df.WeatherDelay > 0].groupby(['Year','Month'])['Month'].count()\n",
    "    delaywM = delaywM.append(ser)\n",
    "    # Nas Delay Por Mes\n",
    "    ser = df[df.NASDelay > 0].groupby(['Year','Month'])['Month'].count()\n",
    "    delayNM = delayNM.append(ser)\n",
    "    # Security Delay Por Mes \n",
    "    ser = df[df.SecurityDelay > 0].groupby(['Year','Month'])['Month'].count()\n",
    "    delaySM = delaySM.append(ser)\n",
    "    # LateAircraft Delay Por Mes\n",
    "    ser = df[df.LateAircraftDelay > 0].groupby(['Year','Month'])['Month'].count()\n",
    "    delayLM = delayLM.append(ser)\n"
   ]
  },
  {
   "cell_type": "code",
   "execution_count": null,
   "metadata": {
    "collapsed": true
   },
   "outputs": [],
   "source": []
  },
  {
   "cell_type": "code",
   "execution_count": 175,
   "metadata": {
    "collapsed": true
   },
   "outputs": [],
   "source": [
    "def lineal(x, a, b):\n",
    "    return a + b*x\n",
    "def nachooriginal(x, a, b, c, d, e, f, g):\n",
    "    return a*x + b * abs(np.cos(x)) + c * abs(np.sin(x)) + f * np.cos(x) + g * np.sin(x) + d * np.log(x+1) + e\n",
    "def nacho(x, a, b, c, d, e, f, g, h, i, j):\n",
    "    return h*(x**4) + i*(x**3) + j*(x**2) + a*x + b * abs(np.cos(x)) + c * abs(np.sin(x)) + f * np.cos(x) + g * np.sin(x) + d * np.log(x+1) + e\n",
    "def cua(x, a, b, c, d, e, f, g, h, i, j, k, l):\n",
    "    return a*x + b * abs(np.cos(x)) + c * abs(np.sin(x)) + f * np.cos(x) + g * np.sin(x) + d * np.log(x+1) + e + k * np.sin(x) ** 2 + l * np.cos(x) ** 2 \n",
    "def biz(x, a, b, c, d, e, f, g, h, i, j):\n",
    "    return a*x + b * abs(np.cos(x)) + c * abs(np.sin(x)) + f * np.cos(x) + g * np.sin(x) + d * np.cos(x) + i * np.sin(x)  + e\n",
    "def la(x, a, b, c, d, e, f, g, h):\n",
    "    return a + b * x + c * np.cos(x*d+e) + f * np.sin(x*g+h) + c * np.cos(x*d+e) + f * np.sin(x*g+h)\n"
   ]
  },
  {
   "cell_type": "code",
   "execution_count": 30,
   "metadata": {},
   "outputs": [
    {
     "name": "stderr",
     "output_type": "stream",
     "text": [
      "/Library/Frameworks/Python.framework/Versions/3.6/lib/python3.6/site-packages/scipy/optimize/minpack.py:785: OptimizeWarning:\n",
      "\n",
      "Covariance of the parameters could not be estimated\n",
      "\n"
     ]
    },
    {
     "data": {
      "image/png": "[encoded data removed]",
      "text/plain": [
       "<matplotlib.figure.Figure at 0x15fdbbac8>"
      ]
     },
     "metadata": {},
     "output_type": "display_data"
    },
    {
     "data": {
      "text/plain": [
       "840810780.66447687"
      ]
     },
     "execution_count": 30,
     "metadata": {},
     "output_type": "execute_result"
    }
   ],
   "source": [
    "train_y = (totalM).values[0:48]\n",
    "train_x = np.arange(0, train_y.size, 1)\n",
    "fit_y = totalM.values\n",
    "fit_x = np.arange(0, fit_y.size, 1) \n",
    "\n",
    "\n",
    "\n",
    "fun = cua\n",
    "popt, pcov = optimize.curve_fit(fun, train_x, train_y)\n",
    "y_pred = fun(fit_x, *popt)\n",
    "plt.plot(fit_x[0:48], y_pred[0:48], 'r-', label='fit')\n",
    "\n",
    "plt.plot(fit_x, fit_y, 'b-', label='data')\n",
    "\n",
    "plt.plot(fit_x[48:72], y_pred[48:72], 'g-', label='pred')\n",
    "plt.show()\n",
    "np.mean((fit_y - y_pred)**2) ##Error"
   ]
  },
  {
   "cell_type": "code",
   "execution_count": null,
   "metadata": {},
   "outputs": [],
   "source": []
  },
  {
   "cell_type": "code",
   "execution_count": 10,
   "metadata": {},
   "outputs": [
    {
     "data": {
      "text/plain": [
       "Index([ (2003, 1),  (2003, 2),  (2003, 3),  (2003, 4),  (2003, 5),  (2003, 6),\n",
       "        (2003, 7),  (2003, 8),  (2003, 9), (2003, 10), (2003, 11), (2003, 12),\n",
       "        (2004, 1),  (2004, 2),  (2004, 3),  (2004, 4),  (2004, 5),  (2004, 6),\n",
       "        (2004, 7),  (2004, 8),  (2004, 9), (2004, 10), (2004, 11), (2004, 12),\n",
       "        (2005, 1),  (2005, 2),  (2005, 3),  (2005, 4),  (2005, 5),  (2005, 6),\n",
       "        (2005, 7),  (2005, 8),  (2005, 9), (2005, 10), (2005, 11), (2005, 12),\n",
       "        (2006, 1),  (2006, 2),  (2006, 3),  (2006, 4),  (2006, 5),  (2006, 6),\n",
       "        (2006, 7),  (2006, 8),  (2006, 9), (2006, 10), (2006, 11), (2006, 12)],\n",
       "      dtype='object')"
      ]
     },
     "execution_count": 10,
     "metadata": {},
     "output_type": "execute_result"
    }
   ],
   "source": [
    "totalM.index[0:48]"
   ]
  }
 ],
 "metadata": {
  "kernelspec": {
   "display_name": "Python 3",
   "language": "python",
   "name": "python3"
  },
  "language_info": {
   "codemirror_mode": {
    "name": "ipython",
    "version": 3
   },
   "file_extension": ".py",
   "mimetype": "text/x-python",
   "name": "python",
   "nbconvert_exporter": "python",
   "pygments_lexer": "ipython3",
   "version": "3.6.1"
  }
 },
 "nbformat": 4,
 "nbformat_minor": 2
}
