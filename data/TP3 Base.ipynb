{
 "cells": [
  {
   "cell_type": "code",
   "execution_count": 2,
   "metadata": {
    "collapsed": true
   },
   "outputs": [],
   "source": [
    "import pandas as pd\n",
    "import seaborn as sns\n",
    "import matplotlib.pyplot as plt\n",
    "import matplotlib.ticker as ticker\n",
    "import random\n",
    "import numpy as np\n",
    "import json\n",
    "from scipy import stats\n",
    "import plotly\n",
    "from plotly.graph_objs import Scatter, Layout"
   ]
  },
  {
   "cell_type": "code",
   "execution_count": 18,
   "metadata": {},
   "outputs": [
    {
     "data": {
      "text/html": [
       "<div>\n",
       "<table border=\"1\" class=\"dataframe\">\n",
       "  <thead>\n",
       "    <tr style=\"text-align: right;\">\n",
       "      <th></th>\n",
       "      <th>Year</th>\n",
       "      <th>Month</th>\n",
       "      <th>DayofMonth</th>\n",
       "      <th>DayOfWeek</th>\n",
       "      <th>DepTime</th>\n",
       "      <th>CRSDepTime</th>\n",
       "      <th>ArrTime</th>\n",
       "      <th>CRSArrTime</th>\n",
       "      <th>UniqueCarrier</th>\n",
       "      <th>FlightNum</th>\n",
       "      <th>...</th>\n",
       "      <th>TaxiIn</th>\n",
       "      <th>TaxiOut</th>\n",
       "      <th>Cancelled</th>\n",
       "      <th>CancellationCode</th>\n",
       "      <th>Diverted</th>\n",
       "      <th>CarrierDelay</th>\n",
       "      <th>WeatherDelay</th>\n",
       "      <th>NASDelay</th>\n",
       "      <th>SecurityDelay</th>\n",
       "      <th>LateAircraftDelay</th>\n",
       "    </tr>\n",
       "  </thead>\n",
       "  <tbody>\n",
       "    <tr>\n",
       "      <th>0</th>\n",
       "      <td>2008</td>\n",
       "      <td>1</td>\n",
       "      <td>3</td>\n",
       "      <td>4</td>\n",
       "      <td>2003.0</td>\n",
       "      <td>1955</td>\n",
       "      <td>2211.0</td>\n",
       "      <td>2225</td>\n",
       "      <td>WN</td>\n",
       "      <td>335</td>\n",
       "      <td>...</td>\n",
       "      <td>4.0</td>\n",
       "      <td>8.0</td>\n",
       "      <td>0</td>\n",
       "      <td>NaN</td>\n",
       "      <td>0</td>\n",
       "      <td>NaN</td>\n",
       "      <td>NaN</td>\n",
       "      <td>NaN</td>\n",
       "      <td>NaN</td>\n",
       "      <td>NaN</td>\n",
       "    </tr>\n",
       "    <tr>\n",
       "      <th>1</th>\n",
       "      <td>2008</td>\n",
       "      <td>1</td>\n",
       "      <td>3</td>\n",
       "      <td>4</td>\n",
       "      <td>754.0</td>\n",
       "      <td>735</td>\n",
       "      <td>1002.0</td>\n",
       "      <td>1000</td>\n",
       "      <td>WN</td>\n",
       "      <td>3231</td>\n",
       "      <td>...</td>\n",
       "      <td>5.0</td>\n",
       "      <td>10.0</td>\n",
       "      <td>0</td>\n",
       "      <td>NaN</td>\n",
       "      <td>0</td>\n",
       "      <td>NaN</td>\n",
       "      <td>NaN</td>\n",
       "      <td>NaN</td>\n",
       "      <td>NaN</td>\n",
       "      <td>NaN</td>\n",
       "    </tr>\n",
       "    <tr>\n",
       "      <th>2</th>\n",
       "      <td>2008</td>\n",
       "      <td>1</td>\n",
       "      <td>3</td>\n",
       "      <td>4</td>\n",
       "      <td>628.0</td>\n",
       "      <td>620</td>\n",
       "      <td>804.0</td>\n",
       "      <td>750</td>\n",
       "      <td>WN</td>\n",
       "      <td>448</td>\n",
       "      <td>...</td>\n",
       "      <td>3.0</td>\n",
       "      <td>17.0</td>\n",
       "      <td>0</td>\n",
       "      <td>NaN</td>\n",
       "      <td>0</td>\n",
       "      <td>NaN</td>\n",
       "      <td>NaN</td>\n",
       "      <td>NaN</td>\n",
       "      <td>NaN</td>\n",
       "      <td>NaN</td>\n",
       "    </tr>\n",
       "    <tr>\n",
       "      <th>3</th>\n",
       "      <td>2008</td>\n",
       "      <td>1</td>\n",
       "      <td>3</td>\n",
       "      <td>4</td>\n",
       "      <td>926.0</td>\n",
       "      <td>930</td>\n",
       "      <td>1054.0</td>\n",
       "      <td>1100</td>\n",
       "      <td>WN</td>\n",
       "      <td>1746</td>\n",
       "      <td>...</td>\n",
       "      <td>3.0</td>\n",
       "      <td>7.0</td>\n",
       "      <td>0</td>\n",
       "      <td>NaN</td>\n",
       "      <td>0</td>\n",
       "      <td>NaN</td>\n",
       "      <td>NaN</td>\n",
       "      <td>NaN</td>\n",
       "      <td>NaN</td>\n",
       "      <td>NaN</td>\n",
       "    </tr>\n",
       "    <tr>\n",
       "      <th>4</th>\n",
       "      <td>2008</td>\n",
       "      <td>1</td>\n",
       "      <td>3</td>\n",
       "      <td>4</td>\n",
       "      <td>1829.0</td>\n",
       "      <td>1755</td>\n",
       "      <td>1959.0</td>\n",
       "      <td>1925</td>\n",
       "      <td>WN</td>\n",
       "      <td>3920</td>\n",
       "      <td>...</td>\n",
       "      <td>3.0</td>\n",
       "      <td>10.0</td>\n",
       "      <td>0</td>\n",
       "      <td>NaN</td>\n",
       "      <td>0</td>\n",
       "      <td>2.0</td>\n",
       "      <td>0.0</td>\n",
       "      <td>0.0</td>\n",
       "      <td>0.0</td>\n",
       "      <td>32.0</td>\n",
       "    </tr>\n",
       "  </tbody>\n",
       "</table>\n",
       "<p>5 rows × 29 columns</p>\n",
       "</div>"
      ],
      "text/plain": [
       "   Year  Month  DayofMonth  DayOfWeek  DepTime  CRSDepTime  ArrTime  \\\n",
       "0  2008      1           3          4   2003.0        1955   2211.0   \n",
       "1  2008      1           3          4    754.0         735   1002.0   \n",
       "2  2008      1           3          4    628.0         620    804.0   \n",
       "3  2008      1           3          4    926.0         930   1054.0   \n",
       "4  2008      1           3          4   1829.0        1755   1959.0   \n",
       "\n",
       "   CRSArrTime UniqueCarrier  FlightNum        ...         TaxiIn  TaxiOut  \\\n",
       "0        2225            WN        335        ...            4.0      8.0   \n",
       "1        1000            WN       3231        ...            5.0     10.0   \n",
       "2         750            WN        448        ...            3.0     17.0   \n",
       "3        1100            WN       1746        ...            3.0      7.0   \n",
       "4        1925            WN       3920        ...            3.0     10.0   \n",
       "\n",
       "   Cancelled  CancellationCode  Diverted  CarrierDelay WeatherDelay NASDelay  \\\n",
       "0          0               NaN         0           NaN          NaN      NaN   \n",
       "1          0               NaN         0           NaN          NaN      NaN   \n",
       "2          0               NaN         0           NaN          NaN      NaN   \n",
       "3          0               NaN         0           NaN          NaN      NaN   \n",
       "4          0               NaN         0           2.0          0.0      0.0   \n",
       "\n",
       "   SecurityDelay  LateAircraftDelay  \n",
       "0            NaN                NaN  \n",
       "1            NaN                NaN  \n",
       "2            NaN                NaN  \n",
       "3            NaN                NaN  \n",
       "4            0.0               32.0  \n",
       "\n",
       "[5 rows x 29 columns]"
      ]
     },
     "execution_count": 18,
     "metadata": {},
     "output_type": "execute_result"
    }
   ],
   "source": [
    "df = pd.read_csv('2008.csv') #Carga el CSV entero\n",
    "#df # df por data frame es la estructura de datos que representa tablas en pandas https://pandas.pydata.org/pandas-docs/stable/dsintro.html"
   ]
  },
  {
   "cell_type": "code",
   "execution_count": 4,
   "metadata": {},
   "outputs": [],
   "source": [
    "#df[df.WeatherDelay > 0].groupby('OriginCity').Origin.count().sort_values(ascending=False)# Los Aeropuertos con mas delays por mal tiempo\n",
    "#-\n",
    "#df[df.WeatherDelay > 0].groupby('Dest').Dest.count().sort_values(ascending=False)# Los Aeropuertos con mas delays por mal tiempo#\n",
    "#-\n",
    "#df['Trip'] = df['Origin'] + \"->\" + df['Dest'] \n",
    "#df[df.WeatherDelay > 0].groupby('Trip').Trip.count().sort_values(ascending=False)\n",
    "#-\n",
    "#df[df.WeatherDelay > 0].groupby('Month').Month.count()\n",
    "#df.plot()\n",
    "#plt.show()\n",
    "#-"
   ]
  },
  {
   "cell_type": "markdown",
   "metadata": {},
   "source": [
    "# Por mes"
   ]
  },
  {
   "cell_type": "code",
   "execution_count": 31,
   "metadata": {},
   "outputs": [
    {
     "data": {
      "image/png": "[encoded data removed]",
      "text/plain": [
       "<matplotlib.figure.Figure at 0x7f49415ad470>"
      ]
     },
     "metadata": {},
     "output_type": "display_data"
    }
   ],
   "source": [
    "(df[df.Cancelled > 0].groupby('Month').Month.count() / df.groupby('Month').Month.count()).plot.bar()\n",
    "\n",
    "plt.show()"
   ]
  },
  {
   "cell_type": "code",
   "execution_count": 54,
   "metadata": {},
   "outputs": [
    {
     "data": {
      "image/png": "[encoded data removed]",
      "text/plain": [
       "<matplotlib.figure.Figure at 0x7f494052e438>"
      ]
     },
     "metadata": {},
     "output_type": "display_data"
    }
   ],
   "source": [
    "def plotCancellationCodesBy(df, index):  \n",
    "    # (A = carrier, B = weather, C = NAS, D = security)\n",
    "    var = df[df.Cancelled > 0].groupby([index,'CancellationCode'])[index].count() / df.groupby([index])[index].count()\n",
    "    var.unstack().plot(kind='bar',stacked=True, color=['red','blue','green','pink'], grid=False)\n",
    "    plt.show()\n",
    "plotCancellationCodesBy(df, 'Month')"
   ]
  },
  {
   "cell_type": "markdown",
   "metadata": {},
   "source": [
    "# Por Dia"
   ]
  },
  {
   "cell_type": "code",
   "execution_count": 107,
   "metadata": {},
   "outputs": [
    {
     "data": {
      "image/png": "[encoded data removed]",
      "text/plain": [
       "<matplotlib.figure.Figure at 0x7f492a04c1d0>"
      ]
     },
     "metadata": {},
     "output_type": "display_data"
    },
    {
     "data": {
      "image/png": "[encoded data removed]",
      "text/plain": [
       "<matplotlib.figure.Figure at 0x7f4928ad8be0>"
      ]
     },
     "metadata": {},
     "output_type": "display_data"
    }
   ],
   "source": [
    "plotCancellationCodesBy(df, 'DayofMonth')\n",
    "plotCancellationCodesBy(df, 'DayOfWeek')"
   ]
  },
  {
   "cell_type": "markdown",
   "metadata": {},
   "source": [
    "# Por distancia"
   ]
  },
  {
   "cell_type": "code",
   "execution_count": 108,
   "metadata": {},
   "outputs": [
    {
     "data": {
      "image/png": "[encoded data removed]",
      "text/plain": [
       "<matplotlib.figure.Figure at 0x7f4928aaa828>"
      ]
     },
     "metadata": {},
     "output_type": "display_data"
    }
   ],
   "source": [
    "index = 'Distance'\n",
    "ranges = np.arange(0,6000,100)\n",
    "var = df[df.Cancelled > 0].groupby(pd.cut(df[df.Cancelled > 0].Distance, ranges))[index].count() / df.groupby(pd.cut(df.Distance, ranges))[index].count()\n",
    "var.plot(kind='line')\n",
    "plt.show()"
   ]
  },
  {
   "cell_type": "markdown",
   "metadata": {},
   "source": [
    "# Heatmap\n"
   ]
  },
  {
   "cell_type": "code",
   "execution_count": 61,
   "metadata": {
    "collapsed": true
   },
   "outputs": [],
   "source": [
    "#with open('airportCodeToCityCode.json') as data_file:    \n",
    "#    airportToCity = json.load(data_file)\n",
    "def addState(airports, df, code, to):\n",
    "    for i, row in df.iterrows():\n",
    "        if airports[airports[\"Code\"] == row[code]].size > 0:\n",
    "            df.loc[i, to] = airports[airports[\"Code\"] == row[code]].iloc[0].State\n",
    "    return df\n",
    "def heatmap(var, statecode, zcode, filename):\n",
    "    scl = [[0.0, 'rgb(242,240,247)'],[0.2, 'rgb(218,218,235)'],[0.4, 'rgb(188,189,220)'],\\\n",
    "            [0.6, 'rgb(158,154,200)'],[0.8, 'rgb(117,107,177)'],[1.0, 'rgb(84,39,143)']]\n",
    "\n",
    "    #HEATMAP\n",
    "    data = [ dict(\n",
    "            type='choropleth',\n",
    "            colorscale = scl,\n",
    "            autocolorscale = False,\n",
    "            locations = var[statecode],\n",
    "            z = var[zcode].astype(float),\n",
    "            locationmode = 'USA-states',\n",
    "            marker = dict(\n",
    "                line = dict (\n",
    "                    color = 'rgb(255,255,255)',\n",
    "                    width = 2\n",
    "                )\n",
    "            ),\n",
    "            colorbar = dict(\n",
    "                title = \"Cantidad de Vuelos Demorados en 2008 por mal clima\"\n",
    "            )\n",
    "        ) ]\n",
    "\n",
    "    layout = dict(\n",
    "            title = '2011 US Agriculture Exports by State<br>(Hover for breakdown)',\n",
    "            geo = dict(\n",
    "                scope='usa',\n",
    "                projection=dict( type='albers usa' ),\n",
    "                showlakes = True,\n",
    "                lakecolor = 'rgb(255, 255, 255)',\n",
    "            ),\n",
    "        )\n",
    "\n",
    "    fig = dict(data=data, layout=layout)\n",
    "\n",
    "    url = plotly.offline.plot(fig, filename=filename)\n"
   ]
  },
  {
   "cell_type": "code",
   "execution_count": null,
   "metadata": {
    "collapsed": true
   },
   "outputs": [],
   "source": []
  },
  {
   "cell_type": "code",
   "execution_count": 62,
   "metadata": {},
   "outputs": [],
   "source": [
    "airports = pd.read_csv('airports.csv') \n",
    "malClimaSeries = df[df.WeatherDelay > 0].groupby('Origin').Origin.count().sort_values(ascending=False)\n",
    "malClimaDF = pd.DataFrame({'Origin':malClimaSeries.index, 'Count':malClimaSeries.values})\n",
    "malClimaDF = addState(airports, malClimaDF, 'Origin', 'OriginState')\n",
    "var = malClimaDF[malClimaDF.OriginState.notnull()].groupby('OriginState').sum().reset_index()\n",
    "heatmap(var, 'OriginState', 'Count', 'origen2008.html') \n",
    "\n",
    "malClimaSeries = df[df.WeatherDelay > 0].groupby('Dest').Dest.count().sort_values(ascending=False)\n",
    "malClimaDF = pd.DataFrame({'Dest':malClimaSeries.index, 'Count':malClimaSeries.values})\n",
    "malClimaDF = addState(airports, malClimaDF, 'Dest', 'DestState')\n",
    "var = malClimaDF[malClimaDF.DestState.notnull()].groupby('DestState').sum().reset_index()\n",
    "heatmap(var, 'DestState', 'Count', 'dest2008.html')\n",
    "\n",
    "\n",
    "malClimaSeries = df[df.Cancelled > 0].groupby('Origin').Origin.count().sort_values(ascending=False)\n",
    "malClimaDF = pd.DataFrame({'Origin':malClimaSeries.index, 'Count':malClimaSeries.values})\n",
    "malClimaDF = addState(airports, malClimaDF, 'Origin', 'OriginState')\n",
    "var = malClimaDF[malClimaDF.OriginState.notnull()].groupby('OriginState').sum().reset_index()\n",
    "heatmap(var, 'OriginState', 'Count', 'Cancelledorigen2008.html') \n",
    "\n",
    "malClimaSeries = df[df.Cancelled > 0].groupby('Dest').Dest.count().sort_values(ascending=False)\n",
    "malClimaDF = pd.DataFrame({'Dest':malClimaSeries.index, 'Count':malClimaSeries.values})\n",
    "malClimaDF = addState(airports, malClimaDF, 'Dest', 'DestState')\n",
    "var = malClimaDF[malClimaDF.DestState.notnull()].groupby('DestState').sum().reset_index()\n",
    "heatmap(var, 'DestState', 'Count', 'Cancelleddest2008.html')\n",
    "#var = malClimaDF[malClimaDF.OriginState.isnull()]"
   ]
  },
  {
   "cell_type": "code",
   "execution_count": null,
   "metadata": {
    "collapsed": true
   },
   "outputs": [],
   "source": []
  },
  {
   "cell_type": "code",
   "execution_count": null,
   "metadata": {
    "collapsed": true
   },
   "outputs": [],
   "source": []
  },
  {
   "cell_type": "code",
   "execution_count": 33,
   "metadata": {},
   "outputs": [
    {
     "data": {
      "text/plain": [
       "178        1\n",
       "373        1\n",
       "399        1\n",
       "401        1\n",
       "415        1\n",
       "676        1\n",
       "686        1\n",
       "727        1\n",
       "881        1\n",
       "884        1\n",
       "974        1\n",
       "977        1\n",
       "1015       1\n",
       "1016       1\n",
       "1044       1\n",
       "1074       1\n",
       "1080       1\n",
       "1099       1\n",
       "1163       1\n",
       "1400       1\n",
       "1707       1\n",
       "1713       1\n",
       "1715       1\n",
       "1730       1\n",
       "1779       1\n",
       "1796       1\n",
       "1902       1\n",
       "1903       1\n",
       "1915       1\n",
       "1916       1\n",
       "          ..\n",
       "7008067    1\n",
       "7008240    1\n",
       "7008247    1\n",
       "7008351    1\n",
       "7008531    1\n",
       "7008561    1\n",
       "7008562    1\n",
       "7008584    1\n",
       "7008586    1\n",
       "7008589    1\n",
       "7008590    1\n",
       "7008591    1\n",
       "7008593    1\n",
       "7008594    1\n",
       "7008597    1\n",
       "7008632    1\n",
       "7008721    1\n",
       "7008727    1\n",
       "7008813    1\n",
       "7008869    1\n",
       "7008900    1\n",
       "7008940    1\n",
       "7009381    1\n",
       "7009396    1\n",
       "7009397    1\n",
       "7009455    1\n",
       "7009464    1\n",
       "7009564    1\n",
       "7009565    1\n",
       "7009648    1\n",
       "Name: Cancelled, dtype: int64"
      ]
     },
     "execution_count": 33,
     "metadata": {},
     "output_type": "execute_result"
    }
   ],
   "source": [
    "df[df.Cancelled > 0].Cancelled"
   ]
  },
  {
   "cell_type": "code",
   "execution_count": 5,
   "metadata": {},
   "outputs": [
    {
     "name": "stderr",
     "output_type": "stream",
     "text": [
      "/usr/local/lib/python3.5/dist-packages/plotly/offline/offline.py:459: UserWarning:\n",
      "\n",
      "Your filename `d3-cloropleth-map` didn't end with .html. Adding .html to the end of your file.\n",
      "\n"
     ]
    }
   ],
   "source": []
  }
 ],
 "metadata": {
  "kernelspec": {
   "display_name": "Python 3",
   "language": "python",
   "name": "python3"
  },
  "language_info": {
   "codemirror_mode": {
    "name": "ipython",
    "version": 3
   },
   "file_extension": ".py",
   "mimetype": "text/x-python",
   "name": "python",
   "nbconvert_exporter": "python",
   "pygments_lexer": "ipython3",
   "version": "3.5.2+"
  }
 },
 "nbformat": 4,
 "nbformat_minor": 2
}
